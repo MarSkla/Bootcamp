{
 "cells": [
  {
   "cell_type": "code",
   "execution_count": 1,
   "id": "charitable-antarctica",
   "metadata": {
    "tags": []
   },
   "outputs": [],
   "source": [
    "import pandas as pd\n",
    "import numpy as np\n",
    "import matplotlib.pyplot as plt\n",
    "from sklearn.linear_model import LinearRegression\n",
    "from sklearn import datasets"
   ]
  },
  {
   "cell_type": "markdown",
   "id": "through-productivity",
   "metadata": {},
   "source": [
    "## Zadanie 1"
   ]
  },
  {
   "cell_type": "markdown",
   "id": "revised-leonard",
   "metadata": {},
   "source": [
    "1. Zbuduj model używając tylko jednej zmiennej dla pozostałych atrybutów i wybierz ten, który uzyskuje najlepsze wyniki pomiaru jakości regresji. Następnie porównaj najlepiej działający model z regresją wyuczoną na wszystkich zmiennych objaśniających."
   ]
  },
  {
   "cell_type": "code",
   "execution_count": 2,
   "id": "radio-rings",
   "metadata": {},
   "outputs": [],
   "source": [
    "data = pd.read_csv('diabetes.xls')"
   ]
  },
  {
   "cell_type": "code",
   "execution_count": 3,
   "id": "stable-arrest",
   "metadata": {},
   "outputs": [
    {
     "data": {
      "text/plain": [
       "['AGE', 'SEX', 'BMI', 'BP', 'S1', 'S2', 'S3', 'S4', 'S5', 'S6', 'Y']"
      ]
     },
     "execution_count": 3,
     "metadata": {},
     "output_type": "execute_result"
    }
   ],
   "source": [
    "data.columns.tolist()"
   ]
  },
  {
   "cell_type": "code",
   "execution_count": 4,
   "id": "future-entity",
   "metadata": {},
   "outputs": [
    {
     "data": {
      "text/html": [
       "<div>\n",
       "<style scoped>\n",
       "    .dataframe tbody tr th:only-of-type {\n",
       "        vertical-align: middle;\n",
       "    }\n",
       "\n",
       "    .dataframe tbody tr th {\n",
       "        vertical-align: top;\n",
       "    }\n",
       "\n",
       "    .dataframe thead th {\n",
       "        text-align: right;\n",
       "    }\n",
       "</style>\n",
       "<table border=\"1\" class=\"dataframe\">\n",
       "  <thead>\n",
       "    <tr style=\"text-align: right;\">\n",
       "      <th></th>\n",
       "      <th>AGE</th>\n",
       "      <th>SEX</th>\n",
       "      <th>BMI</th>\n",
       "      <th>BP</th>\n",
       "      <th>S1</th>\n",
       "      <th>S2</th>\n",
       "      <th>S3</th>\n",
       "      <th>S4</th>\n",
       "      <th>S5</th>\n",
       "      <th>S6</th>\n",
       "      <th>Y</th>\n",
       "    </tr>\n",
       "  </thead>\n",
       "  <tbody>\n",
       "    <tr>\n",
       "      <th>AGE</th>\n",
       "      <td>1.000000</td>\n",
       "      <td>0.173737</td>\n",
       "      <td>0.185085</td>\n",
       "      <td>0.335428</td>\n",
       "      <td>0.260061</td>\n",
       "      <td>0.219243</td>\n",
       "      <td>-0.075181</td>\n",
       "      <td>0.203841</td>\n",
       "      <td>0.270774</td>\n",
       "      <td>0.301731</td>\n",
       "      <td>0.187889</td>\n",
       "    </tr>\n",
       "    <tr>\n",
       "      <th>SEX</th>\n",
       "      <td>0.173737</td>\n",
       "      <td>1.000000</td>\n",
       "      <td>0.088161</td>\n",
       "      <td>0.241010</td>\n",
       "      <td>0.035277</td>\n",
       "      <td>0.142637</td>\n",
       "      <td>-0.379090</td>\n",
       "      <td>0.332115</td>\n",
       "      <td>0.149916</td>\n",
       "      <td>0.208133</td>\n",
       "      <td>0.043062</td>\n",
       "    </tr>\n",
       "    <tr>\n",
       "      <th>BMI</th>\n",
       "      <td>0.185085</td>\n",
       "      <td>0.088161</td>\n",
       "      <td>1.000000</td>\n",
       "      <td>0.395411</td>\n",
       "      <td>0.249777</td>\n",
       "      <td>0.261170</td>\n",
       "      <td>-0.366811</td>\n",
       "      <td>0.413807</td>\n",
       "      <td>0.446157</td>\n",
       "      <td>0.388680</td>\n",
       "      <td>0.586450</td>\n",
       "    </tr>\n",
       "    <tr>\n",
       "      <th>BP</th>\n",
       "      <td>0.335428</td>\n",
       "      <td>0.241010</td>\n",
       "      <td>0.395411</td>\n",
       "      <td>1.000000</td>\n",
       "      <td>0.242464</td>\n",
       "      <td>0.185548</td>\n",
       "      <td>-0.178762</td>\n",
       "      <td>0.257650</td>\n",
       "      <td>0.393480</td>\n",
       "      <td>0.390430</td>\n",
       "      <td>0.441482</td>\n",
       "    </tr>\n",
       "    <tr>\n",
       "      <th>S1</th>\n",
       "      <td>0.260061</td>\n",
       "      <td>0.035277</td>\n",
       "      <td>0.249777</td>\n",
       "      <td>0.242464</td>\n",
       "      <td>1.000000</td>\n",
       "      <td>0.896663</td>\n",
       "      <td>0.051519</td>\n",
       "      <td>0.542207</td>\n",
       "      <td>0.515503</td>\n",
       "      <td>0.325717</td>\n",
       "      <td>0.212022</td>\n",
       "    </tr>\n",
       "    <tr>\n",
       "      <th>S2</th>\n",
       "      <td>0.219243</td>\n",
       "      <td>0.142637</td>\n",
       "      <td>0.261170</td>\n",
       "      <td>0.185548</td>\n",
       "      <td>0.896663</td>\n",
       "      <td>1.000000</td>\n",
       "      <td>-0.196455</td>\n",
       "      <td>0.659817</td>\n",
       "      <td>0.318357</td>\n",
       "      <td>0.290600</td>\n",
       "      <td>0.174054</td>\n",
       "    </tr>\n",
       "    <tr>\n",
       "      <th>S3</th>\n",
       "      <td>-0.075181</td>\n",
       "      <td>-0.379090</td>\n",
       "      <td>-0.366811</td>\n",
       "      <td>-0.178762</td>\n",
       "      <td>0.051519</td>\n",
       "      <td>-0.196455</td>\n",
       "      <td>1.000000</td>\n",
       "      <td>-0.738493</td>\n",
       "      <td>-0.398577</td>\n",
       "      <td>-0.273697</td>\n",
       "      <td>-0.394789</td>\n",
       "    </tr>\n",
       "    <tr>\n",
       "      <th>S4</th>\n",
       "      <td>0.203841</td>\n",
       "      <td>0.332115</td>\n",
       "      <td>0.413807</td>\n",
       "      <td>0.257650</td>\n",
       "      <td>0.542207</td>\n",
       "      <td>0.659817</td>\n",
       "      <td>-0.738493</td>\n",
       "      <td>1.000000</td>\n",
       "      <td>0.617859</td>\n",
       "      <td>0.417212</td>\n",
       "      <td>0.430453</td>\n",
       "    </tr>\n",
       "    <tr>\n",
       "      <th>S5</th>\n",
       "      <td>0.270774</td>\n",
       "      <td>0.149916</td>\n",
       "      <td>0.446157</td>\n",
       "      <td>0.393480</td>\n",
       "      <td>0.515503</td>\n",
       "      <td>0.318357</td>\n",
       "      <td>-0.398577</td>\n",
       "      <td>0.617859</td>\n",
       "      <td>1.000000</td>\n",
       "      <td>0.464669</td>\n",
       "      <td>0.565883</td>\n",
       "    </tr>\n",
       "    <tr>\n",
       "      <th>S6</th>\n",
       "      <td>0.301731</td>\n",
       "      <td>0.208133</td>\n",
       "      <td>0.388680</td>\n",
       "      <td>0.390430</td>\n",
       "      <td>0.325717</td>\n",
       "      <td>0.290600</td>\n",
       "      <td>-0.273697</td>\n",
       "      <td>0.417212</td>\n",
       "      <td>0.464669</td>\n",
       "      <td>1.000000</td>\n",
       "      <td>0.382483</td>\n",
       "    </tr>\n",
       "    <tr>\n",
       "      <th>Y</th>\n",
       "      <td>0.187889</td>\n",
       "      <td>0.043062</td>\n",
       "      <td>0.586450</td>\n",
       "      <td>0.441482</td>\n",
       "      <td>0.212022</td>\n",
       "      <td>0.174054</td>\n",
       "      <td>-0.394789</td>\n",
       "      <td>0.430453</td>\n",
       "      <td>0.565883</td>\n",
       "      <td>0.382483</td>\n",
       "      <td>1.000000</td>\n",
       "    </tr>\n",
       "  </tbody>\n",
       "</table>\n",
       "</div>"
      ],
      "text/plain": [
       "          AGE       SEX       BMI        BP        S1        S2        S3  \\\n",
       "AGE  1.000000  0.173737  0.185085  0.335428  0.260061  0.219243 -0.075181   \n",
       "SEX  0.173737  1.000000  0.088161  0.241010  0.035277  0.142637 -0.379090   \n",
       "BMI  0.185085  0.088161  1.000000  0.395411  0.249777  0.261170 -0.366811   \n",
       "BP   0.335428  0.241010  0.395411  1.000000  0.242464  0.185548 -0.178762   \n",
       "S1   0.260061  0.035277  0.249777  0.242464  1.000000  0.896663  0.051519   \n",
       "S2   0.219243  0.142637  0.261170  0.185548  0.896663  1.000000 -0.196455   \n",
       "S3  -0.075181 -0.379090 -0.366811 -0.178762  0.051519 -0.196455  1.000000   \n",
       "S4   0.203841  0.332115  0.413807  0.257650  0.542207  0.659817 -0.738493   \n",
       "S5   0.270774  0.149916  0.446157  0.393480  0.515503  0.318357 -0.398577   \n",
       "S6   0.301731  0.208133  0.388680  0.390430  0.325717  0.290600 -0.273697   \n",
       "Y    0.187889  0.043062  0.586450  0.441482  0.212022  0.174054 -0.394789   \n",
       "\n",
       "           S4        S5        S6         Y  \n",
       "AGE  0.203841  0.270774  0.301731  0.187889  \n",
       "SEX  0.332115  0.149916  0.208133  0.043062  \n",
       "BMI  0.413807  0.446157  0.388680  0.586450  \n",
       "BP   0.257650  0.393480  0.390430  0.441482  \n",
       "S1   0.542207  0.515503  0.325717  0.212022  \n",
       "S2   0.659817  0.318357  0.290600  0.174054  \n",
       "S3  -0.738493 -0.398577 -0.273697 -0.394789  \n",
       "S4   1.000000  0.617859  0.417212  0.430453  \n",
       "S5   0.617859  1.000000  0.464669  0.565883  \n",
       "S6   0.417212  0.464669  1.000000  0.382483  \n",
       "Y    0.430453  0.565883  0.382483  1.000000  "
      ]
     },
     "execution_count": 4,
     "metadata": {},
     "output_type": "execute_result"
    }
   ],
   "source": [
    "corr = data.corr()\n",
    "corr"
   ]
  },
  {
   "cell_type": "code",
   "execution_count": 5,
   "id": "varying-feeding",
   "metadata": {},
   "outputs": [
    {
     "data": {
      "text/plain": [
       "<AxesSubplot:>"
      ]
     },
     "execution_count": 5,
     "metadata": {},
     "output_type": "execute_result"
    },
    {
     "data": {
      "image/png": "[encoded data removed]",
      "text/plain": [
       "<Figure size 432x288 with 2 Axes>"
      ]
     },
     "metadata": {
      "needs_background": "light"
     },
     "output_type": "display_data"
    }
   ],
   "source": [
    "import seaborn as sns\n",
    "sns.heatmap(corr,\n",
    "         xticklabels=corr.columns, \n",
    "         yticklabels=corr.columns)"
   ]
  },
  {
   "cell_type": "code",
   "execution_count": 6,
   "id": "medieval-generation",
   "metadata": {},
   "outputs": [],
   "source": [
    "choice = 'S5'"
   ]
  },
  {
   "cell_type": "code",
   "execution_count": 7,
   "id": "hired-static",
   "metadata": {},
   "outputs": [],
   "source": [
    "from sklearn.model_selection import train_test_split"
   ]
  },
  {
   "cell_type": "code",
   "execution_count": 8,
   "id": "polyphonic-smart",
   "metadata": {},
   "outputs": [],
   "source": [
    "x_train, x_test, y_train, y_test = train_test_split(data[[choice]], data[['Y']],\n",
    "                                                    test_size = 0.8)\n",
    "# jak sprawdzić dla wszystkich atrybutów jednym kodem? da się?\n",
    "# głównie chodzi aby ocena wszystkich atrybutów była na teym samym zbiorze treningowym"
   ]
  },
  {
   "cell_type": "code",
   "execution_count": 9,
   "id": "dense-benjamin",
   "metadata": {},
   "outputs": [
    {
     "data": {
      "text/plain": [
       "0.27559598678378927"
      ]
     },
     "execution_count": 9,
     "metadata": {},
     "output_type": "execute_result"
    }
   ],
   "source": [
    "model = LinearRegression()\n",
    "model.fit(x_train, y_train)\n",
    "x = model.score(x_test, y_test)\n",
    "x"
   ]
  },
  {
   "cell_type": "code",
   "execution_count": 10,
   "id": "angry-slovenia",
   "metadata": {},
   "outputs": [
    {
     "data": {
      "text/plain": [
       "array([[138.75824912],\n",
       "       [133.0399893 ],\n",
       "       [ 69.09944768],\n",
       "       [133.0399893 ],\n",
       "       [100.23882381],\n",
       "       [208.23808863],\n",
       "       [215.27725795],\n",
       "       [289.01809584],\n",
       "       [163.54873767],\n",
       "       [ 91.0691553 ]])"
      ]
     },
     "execution_count": 10,
     "metadata": {},
     "output_type": "execute_result"
    }
   ],
   "source": [
    "prediction = model.predict(x_test)\n",
    "prediction[:10]"
   ]
  },
  {
   "cell_type": "code",
   "execution_count": 11,
   "id": "illegal-thesis",
   "metadata": {},
   "outputs": [
    {
     "data": {
      "text/plain": [
       "[4215.000932731683]"
      ]
     },
     "execution_count": 11,
     "metadata": {},
     "output_type": "execute_result"
    }
   ],
   "source": [
    "mse = list(np.mean((prediction - y_test) ** 2))\n",
    "mse"
   ]
  },
  {
   "cell_type": "code",
   "execution_count": 12,
   "id": "valid-child",
   "metadata": {},
   "outputs": [
    {
     "data": {
      "image/png": "[encoded data removed]",
      "text/plain": [
       "<Figure size 432x288 with 1 Axes>"
      ]
     },
     "metadata": {
      "needs_background": "light"
     },
     "output_type": "display_data"
    }
   ],
   "source": [
    "plt.scatter(x_test, y_test, color = 'green')\n",
    "plt.plot(x_test, prediction, color = 'red')\n",
    "plt.show()"
   ]
  },
  {
   "cell_type": "markdown",
   "id": "presidential-efficiency",
   "metadata": {},
   "source": [
    "# Porównanie"
   ]
  },
  {
   "cell_type": "code",
   "execution_count": 13,
   "id": "stopped-nashville",
   "metadata": {},
   "outputs": [],
   "source": [
    "x_train, x_test, y_train, y_test = train_test_split(data.iloc[:, :-1], data[['Y']],\n",
    "                                                    test_size = 0.8)"
   ]
  },
  {
   "cell_type": "code",
   "execution_count": 14,
   "id": "military-extension",
   "metadata": {},
   "outputs": [
    {
     "data": {
      "text/plain": [
       "0.46870587957258514"
      ]
     },
     "execution_count": 14,
     "metadata": {},
     "output_type": "execute_result"
    }
   ],
   "source": [
    "model_all = LinearRegression()\n",
    "model_all.fit(x_train, y_train)\n",
    "model_all.score(x_test, y_test)"
   ]
  },
  {
   "cell_type": "code",
   "execution_count": 15,
   "id": "accessory-logan",
   "metadata": {},
   "outputs": [
    {
     "data": {
      "text/plain": [
       "<matplotlib.collections.PathCollection at 0x7fd8fac07190>"
      ]
     },
     "execution_count": 15,
     "metadata": {},
     "output_type": "execute_result"
    },
    {
     "data": {
      "image/png": "[encoded data removed]",
      "text/plain": [
       "<Figure size 432x288 with 1 Axes>"
      ]
     },
     "metadata": {
      "needs_background": "light"
     },
     "output_type": "display_data"
    }
   ],
   "source": [
    "prediction_all = model_all.predict(x_test)\n",
    "plt.scatter(y_test, prediction_all)"
   ]
  },
  {
   "cell_type": "code",
   "execution_count": 16,
   "id": "horizontal-madonna",
   "metadata": {},
   "outputs": [
    {
     "data": {
      "text/plain": [
       "[3188.08145722845]"
      ]
     },
     "execution_count": 16,
     "metadata": {},
     "output_type": "execute_result"
    }
   ],
   "source": [
    "mse_2 = list(np.mean((prediction_all - y_test) ** 2))\n",
    "mse_2"
   ]
  },
  {
   "cell_type": "code",
   "execution_count": 17,
   "id": "fluid-retirement",
   "metadata": {},
   "outputs": [],
   "source": [
    "better = ('A' if mse[0] < mse_2[0] else 'B')"
   ]
  },
  {
   "cell_type": "markdown",
   "id": "undefined-religion",
   "metadata": {},
   "source": [
    "### PODSUMOWANIE"
   ]
  },
  {
   "cell_type": "code",
   "execution_count": 18,
   "id": "liked-parameter",
   "metadata": {},
   "outputs": [
    {
     "name": "stdout",
     "output_type": "stream",
     "text": [
      "MSE dla modelu \"A\" opartego o zmienną S5, która uzyskuje najlepszy wynik pomiaru regresji (R^2 = 0.28) wynosi: 4215.0.\n",
      "\n",
      "MSE dla modelu \"B\" opartego o wszystkie dostępne zmienne wynosi 3188.\n",
      "\n",
      "Podsumowanie: lepszy jest model \"B\"\n"
     ]
    }
   ],
   "source": [
    "print(f'MSE dla modelu \"A\" opartego o zmienną {choice}, która uzyskuje najlepszy wynik pomiaru regresji (R^2 = {round(x,2)}) wynosi: {round(mse[0],2)}.\\n'\n",
    "        f'\\nMSE dla modelu \"B\" opartego o wszystkie dostępne zmienne wynosi {round(mse_2[0])}.\\n'\n",
    "        f'\\nPodsumowanie: lepszy jest model \"{better}\"')"
   ]
  },
  {
   "cell_type": "code",
   "execution_count": 21,
   "id": "promising-parliament",
   "metadata": {},
   "outputs": [
    {
     "name": "stdout",
     "output_type": "stream",
     "text": [
      "coeff: [[  0.3026407  -16.61170959   7.06613218   0.67084982  -0.52843202\n",
      "   -0.30428573   0.11307469  14.57507771  40.25969642   0.52227179]]\n",
      "labels: ['AGE', 'SEX', 'BMI', 'BP', 'S1', 'S2', 'S3', 'S4', 'S5', 'S6']\n",
      "pusty DF: Empty DataFrame\n",
      "Columns: []\n",
      "Index: []\n",
      "DF z pierwszą kolumną:\n",
      "   Features\n",
      "0      AGE\n",
      "1      SEX\n",
      "2      BMI\n",
      "3       BP\n",
      "4       S1\n",
      "5       S2\n",
      "6       S3\n",
      "7       S4\n",
      "8       S5\n",
      "9       S6\n",
      "DF z dwiema kolumnami:\n",
      "   Features  importance\n",
      "0      AGE    0.302641\n",
      "1      SEX  -16.611710\n",
      "2      BMI    7.066132\n",
      "3       BP    0.670850\n",
      "4       S1   -0.528432\n",
      "5       S2   -0.304286\n",
      "6       S3    0.113075\n",
      "7       S4   14.575078\n",
      "8       S5   40.259696\n",
      "9       S6    0.522272\n",
      "DF posortowany:\n",
      "   Features  importance\n",
      "1      SEX  -16.611710\n",
      "4       S1   -0.528432\n",
      "5       S2   -0.304286\n",
      "6       S3    0.113075\n",
      "0      AGE    0.302641\n",
      "9       S6    0.522272\n",
      "3       BP    0.670850\n",
      "2      BMI    7.066132\n",
      "7       S4   14.575078\n",
      "8       S5   40.259696\n",
      "DF z trzema kolumnami:\n",
      "   Features  importance  positive\n",
      "1      SEX  -16.611710     False\n",
      "4       S1   -0.528432     False\n",
      "5       S2   -0.304286     False\n",
      "6       S3    0.113075      True\n",
      "0      AGE    0.302641      True\n",
      "9       S6    0.522272      True\n",
      "3       BP    0.670850      True\n",
      "2      BMI    7.066132      True\n",
      "7       S4   14.575078      True\n",
      "8       S5   40.259696      True\n",
      "DF z kolumną \"Features\" jako indexem :\n",
      "           importance  positive\n",
      "Features                      \n",
      "SEX       -16.611710     False\n",
      "S1         -0.528432     False\n",
      "S2         -0.304286     False\n",
      "S3          0.113075      True\n",
      "AGE         0.302641      True\n",
      "S6          0.522272      True\n",
      "BP          0.670850      True\n",
      "BMI         7.066132      True\n",
      "S4         14.575078      True\n",
      "S5         40.259696      True\n"
     ]
    },
    {
     "data": {
      "text/plain": [
       "Text(0.5, 0, 'Importance')"
      ]
     },
     "execution_count": 21,
     "metadata": {},
     "output_type": "execute_result"
    },
    {
     "data": {
      "image/png": "[encoded data removed]",
      "text/plain": [
       "<Figure size 792x432 with 1 Axes>"
      ]
     },
     "metadata": {
      "needs_background": "light"
     },
     "output_type": "display_data"
    }
   ],
   "source": [
    "coeff = model_all.coef_\n",
    "print(f'coeff: {coeff}') #wychodzi lista ale jako 0 index innej listy - why?\n",
    "labels = list(x_train.columns)\n",
    "print(f'labels: {labels}')\n",
    "\n",
    "features = pd.DataFrame()\n",
    "print(f'pusty DF: {features}')\n",
    "features['Features'] = labels\n",
    "print(f'DF z pierwszą kolumną:\\n {features}')\n",
    "features['importance'] = coeff[0]\n",
    "print(f'DF z dwiema kolumnami:\\n {features}')\n",
    "features.sort_values(by=['importance'], ascending=True, inplace=True)\n",
    "print(f'DF posortowany:\\n {features}')\n",
    "features['positive'] = features['importance'] > 0\n",
    "print(f'DF z trzema kolumnami:\\n {features}')\n",
    "features.set_index('Features', inplace=True)\n",
    "print(f'DF z kolumną \"Features\" jako indexem :\\n {features}')\n",
    "\n",
    "features.importance.plot(kind='barh', figsize=(11, 6),color = features.positive.map({True: 'blue', False: 'red'}))\n",
    "plt.xlabel('Importance')"
   ]
  },
  {
   "cell_type": "code",
   "execution_count": null,
   "id": "alone-omega",
   "metadata": {},
   "outputs": [],
   "source": []
  }
 ],
 "metadata": {
  "kernelspec": {
   "display_name": "Python 3",
   "language": "python",
   "name": "python3"
  },
  "language_info": {
   "codemirror_mode": {
    "name": "ipython",
    "version": 3
   },
   "file_extension": ".py",
   "mimetype": "text/x-python",
   "name": "python",
   "nbconvert_exporter": "python",
   "pygments_lexer": "ipython3",
   "version": "3.8.5"
  }
 },
 "nbformat": 4,
 "nbformat_minor": 5
}
