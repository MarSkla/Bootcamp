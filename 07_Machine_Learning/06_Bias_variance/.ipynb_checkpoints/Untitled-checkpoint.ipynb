{
 "cells": [
  {
   "cell_type": "code",
   "execution_count": 2,
   "id": "composite-pasta",
   "metadata": {},
   "outputs": [
    {
     "name": "stdout",
     "output_type": "stream",
     "text": [
      "2397  1114    0.644136\n",
      "1114  2397    0.644136\n",
      "2184  133     0.647185\n",
      "133   2184    0.647185\n",
      "4133  2699    0.648645\n",
      "2699  4133    0.648645\n",
      "2176  3613    0.656638\n",
      "3613  2176    0.656638\n",
      "1255  2825    0.669330\n",
      "2825  1255    0.669330\n",
      "dtype: float64\n"
     ]
    }
   ],
   "source": [
    "import pandas as pd\n",
    "import numpy as np\n",
    "\n",
    "shape = (50, 4460)\n",
    "\n",
    "data = np.random.normal(size=shape)\n",
    "\n",
    "data[:, 1000] += data[:, 2000]\n",
    "\n",
    "df = pd.DataFrame(data)\n",
    "\n",
    "c = df.corr().abs()\n",
    "\n",
    "s = c.unstack()\n",
    "so = s.sort_values(kind=\"quicksort\")\n",
    "\n",
    "print(so[-4470:-4460])\n"
   ]
  },
  {
   "cell_type": "code",
   "execution_count": 4,
   "id": "instructional-default",
   "metadata": {},
   "outputs": [
    {
     "data": {
      "text/plain": [
       "(50, 4460)"
      ]
     },
     "execution_count": 4,
     "metadata": {},
     "output_type": "execute_result"
    }
   ],
   "source": [
    "df.shape"
   ]
  },
  {
   "cell_type": "code",
   "execution_count": 5,
   "id": "curious-dynamics",
   "metadata": {},
   "outputs": [
    {
     "data": {
      "text/plain": [
       "0     0       1.000000\n",
       "      1       0.041765\n",
       "      2       0.261797\n",
       "      3       0.070613\n",
       "      4       0.086607\n",
       "                ...   \n",
       "4459  4455    0.034259\n",
       "      4456    0.117731\n",
       "      4457    0.152089\n",
       "      4458    0.008412\n",
       "      4459    1.000000\n",
       "Length: 19891600, dtype: float64"
      ]
     },
     "execution_count": 5,
     "metadata": {},
     "output_type": "execute_result"
    }
   ],
   "source": [
    "s"
   ]
  },
  {
   "cell_type": "code",
   "execution_count": 6,
   "id": "unsigned-integrity",
   "metadata": {},
   "outputs": [
    {
     "data": {
      "text/plain": [
       "3146  1263    9.857135e-09\n",
       "1263  3146    9.857135e-09\n",
       "1359  3005    1.607777e-08\n",
       "3005  1359    1.607777e-08\n",
       "3317  1367    2.248958e-08\n",
       "                  ...     \n",
       "2973  2973    1.000000e+00\n",
       "2974  2974    1.000000e+00\n",
       "2975  2975    1.000000e+00\n",
       "2969  2969    1.000000e+00\n",
       "4459  4459    1.000000e+00\n",
       "Length: 19891600, dtype: float64"
      ]
     },
     "execution_count": 6,
     "metadata": {},
     "output_type": "execute_result"
    }
   ],
   "source": [
    "so"
   ]
  },
  {
   "cell_type": "code",
   "execution_count": null,
   "id": "narrative-latex",
   "metadata": {},
   "outputs": [],
   "source": []
  },
  {
   "cell_type": "code",
   "execution_count": null,
   "id": "nasty-shelter",
   "metadata": {},
   "outputs": [],
   "source": []
  },
  {
   "cell_type": "code",
   "execution_count": null,
   "id": "attempted-separation",
   "metadata": {},
   "outputs": [],
   "source": []
  },
  {
   "cell_type": "code",
   "execution_count": 357,
   "id": "miniature-relationship",
   "metadata": {},
   "outputs": [
    {
     "name": "stdout",
     "output_type": "stream",
     "text": [
      "B    29.18\n",
      "A    23.96\n",
      "C    20.54\n",
      "D    14.13\n",
      "E     7.95\n",
      "F     3.04\n",
      "G     1.20\n",
      "Name: grade, dtype: float64\n",
      "\n",
      "100xx    1.50\n",
      "945xx    1.32\n",
      "606xx    1.29\n",
      "112xx    1.27\n",
      "070xx    1.18\n",
      "         ... \n",
      "470xx    0.00\n",
      "465xx    0.00\n",
      "426xx    0.00\n",
      "414xx    0.00\n",
      "999xx    0.00\n",
      "Name: zip_code, Length: 835, dtype: float64\n",
      "\n",
      " 36 months    74.05\n",
      " 60 months    25.95\n",
      "Name: term, dtype: float64\n",
      "\n",
      "debt_consolidation    46.59\n",
      "credit_card           12.87\n",
      "other                 10.33\n",
      "home_improvement       7.52\n",
      "major_purchase         5.44\n",
      "small_business         4.69\n",
      "car                    3.80\n",
      "wedding                2.37\n",
      "medical                1.77\n",
      "moving                 1.47\n",
      "house                  1.00\n",
      "educational            0.97\n",
      "vacation               0.94\n",
      "renewable_energy       0.25\n",
      "Name: purpose, dtype: float64\n",
      "\n",
      "CA    17.51\n",
      "NY     9.55\n",
      "FL     7.29\n",
      "TX     6.86\n",
      "NJ     4.67\n",
      "IL     3.94\n",
      "PA     3.88\n",
      "GA     3.53\n",
      "VA     3.50\n",
      "MA     3.34\n",
      "OH     3.12\n",
      "MD     2.65\n",
      "AZ     2.19\n",
      "WA     2.09\n",
      "CO     2.01\n",
      "NC     1.94\n",
      "CT     1.91\n",
      "MI     1.88\n",
      "MO     1.80\n",
      "MN     1.53\n",
      "NV     1.24\n",
      "WI     1.20\n",
      "SC     1.15\n",
      "AL     1.14\n",
      "OR     1.10\n",
      "LA     1.09\n",
      "KY     0.84\n",
      "OK     0.75\n",
      "KS     0.70\n",
      "UT     0.66\n",
      "AR     0.61\n",
      "DC     0.52\n",
      "RI     0.49\n",
      "NM     0.48\n",
      "NH     0.44\n",
      "WV     0.44\n",
      "HI     0.42\n",
      "DE     0.32\n",
      "MT     0.23\n",
      "AK     0.20\n",
      "WY     0.20\n",
      "SD     0.16\n",
      "VT     0.13\n",
      "TN     0.08\n",
      "MS     0.06\n",
      "IN     0.04\n",
      "IA     0.03\n",
      "NE     0.03\n",
      "ID     0.02\n",
      "ME     0.00\n",
      "Name: state, dtype: float64\n",
      "\n",
      "0    40.43\n",
      "1    18.00\n",
      "3    14.56\n",
      "2    10.56\n",
      "4     9.25\n",
      "5     7.20\n",
      "Name: group, dtype: float64\n",
      "\n"
     ]
    }
   ],
   "source": [
    "for col in df_cat.columns.tolist():\n",
    "    print((df_cat[col].value_counts(normalize = True) * 100).round(2))\n",
    "    print('')"
   ]
  },
  {
   "cell_type": "code",
   "execution_count": null,
   "id": "social-pixel",
   "metadata": {},
   "outputs": [],
   "source": []
  },
  {
   "cell_type": "code",
   "execution_count": null,
   "id": "bigger-musician",
   "metadata": {},
   "outputs": [],
   "source": []
  },
  {
   "cell_type": "code",
   "execution_count": null,
   "id": "compact-bankruptcy",
   "metadata": {},
   "outputs": [],
   "source": []
  },
  {
   "cell_type": "code",
   "execution_count": 370,
   "id": "stupid-tourist",
   "metadata": {},
   "outputs": [
    {
     "name": "stdout",
     "output_type": "stream",
     "text": [
      "B    29.18\n",
      "A    23.96\n",
      "C    20.54\n",
      "D    14.13\n",
      "E     7.95\n",
      "F     3.04\n",
      "G     1.20\n",
      "Name: grade, dtype: float64\n",
      "\n",
      "100xx    1.50\n",
      "945xx    1.32\n",
      "606xx    1.29\n",
      "112xx    1.27\n",
      "070xx    1.18\n",
      "900xx    1.13\n",
      "300xx    1.02\n",
      "021xx    0.97\n",
      "750xx    0.93\n",
      "926xx    0.91\n",
      "Name: zip_code, dtype: float64\n",
      "\n",
      " 36 months    74.05\n",
      " 60 months    25.95\n",
      "Name: term, dtype: float64\n",
      "\n",
      "debt_consolidation    46.59\n",
      "credit_card           12.87\n",
      "other                 10.33\n",
      "home_improvement       7.52\n",
      "major_purchase         5.44\n",
      "small_business         4.69\n",
      "car                    3.80\n",
      "wedding                2.37\n",
      "medical                1.77\n",
      "moving                 1.47\n",
      "Name: purpose, dtype: float64\n",
      "\n",
      "CA    17.51\n",
      "NY     9.55\n",
      "FL     7.29\n",
      "TX     6.86\n",
      "NJ     4.67\n",
      "IL     3.94\n",
      "PA     3.88\n",
      "GA     3.53\n",
      "VA     3.50\n",
      "MA     3.34\n",
      "Name: state, dtype: float64\n",
      "\n",
      "0    40.43\n",
      "1    18.00\n",
      "3    14.56\n",
      "2    10.56\n",
      "4     9.25\n",
      "5     7.20\n",
      "Name: group, dtype: float64\n",
      "\n"
     ]
    }
   ],
   "source": [
    "for col in df_cat.columns.tolist():\n",
    "    print((df_cat[col].value_counts(normalize = True) * 100).nlargest(10).round(2))\n",
    "    print('')"
   ]
  },
  {
   "cell_type": "code",
   "execution_count": null,
   "id": "heated-silver",
   "metadata": {},
   "outputs": [],
   "source": []
  },
  {
   "cell_type": "code",
   "execution_count": null,
   "id": "martial-boards",
   "metadata": {},
   "outputs": [],
   "source": []
  },
  {
   "cell_type": "markdown",
   "id": "criminal-jonathan",
   "metadata": {
    "tags": []
   },
   "source": [
    "<b><font color = 'yellow'>Komentarz do grupowania:</font></b>\n",
    "<br> grupa 0: klienci z drugą w kolejnosci najlepsza oceną\n",
    "<br> grupa 1: klienci z nalepszym gradem, zaciągający pozyczki na spłąty kart kredytowych z terminem 36 miesięcy, najwiecej mieszkańców Nowego Jorku\n",
    "<br> grupa 2: klienci z najlepszym gradem, zaciągający ozyczki w celu konsolidacji zadłuzenia, z terminem 36 miesięcy\n",
    "<br> grupa 3: klienci ze srednim gradem, najwiecej mieszkańców Brooklyn, NY (sprawdziłem 'zip_code' 112), głównie zaciągajćy pozyczki na konsolidacje zadłużenia\n",
    "<br> grupa 4: klienci ze średnim gradem D, przeznaczjący pozyczkę zaciągnięta na okres 36 miesięcy, na konsolidacje długu, mieszkający w Teksasie\n",
    "<br> grupa 5: klienci ze słabym gradem E, zaciągający pozyczki na 60 miesiecy z przeznaceniem na konsolidacje długu, głównie mieszkańcy stanu New Jersey"
   ]
  },
  {
   "cell_type": "code",
   "execution_count": null,
   "id": "minor-warning",
   "metadata": {},
   "outputs": [],
   "source": []
  },
  {
   "cell_type": "code",
   "execution_count": null,
   "id": "extensive-unknown",
   "metadata": {},
   "outputs": [],
   "source": []
  },
  {
   "cell_type": "markdown",
   "id": "thirty-vessel",
   "metadata": {},
   "source": [
    "### zmiana kategorycznych na numeryczne"
   ]
  },
  {
   "cell_type": "code",
   "execution_count": null,
   "id": "higher-cable",
   "metadata": {},
   "outputs": [],
   "source": [
    "# transformacja zmiennych kategorycznych na numaryczne\n",
    "df_dendro = pd.get_dummies(df_dendro)\n",
    "df_dendro"
   ]
  },
  {
   "cell_type": "code",
   "execution_count": null,
   "id": "intermediate-citizen",
   "metadata": {},
   "outputs": [],
   "source": []
  },
  {
   "cell_type": "markdown",
   "id": "sized-repeat",
   "metadata": {},
   "source": [
    "### zmiana ilości wymiarów"
   ]
  },
  {
   "cell_type": "code",
   "execution_count": 319,
   "id": "initial-institute",
   "metadata": {},
   "outputs": [],
   "source": [
    "# zmniejszam ilośc wymiarów (z 913....)\n",
    "# zmieniam wymiary na 2\n",
    "from sklearn.decomposition import PCA\n",
    "\n",
    "pca = PCA(n_components=2)"
   ]
  },
  {
   "cell_type": "code",
   "execution_count": 320,
   "id": "informative-appointment",
   "metadata": {},
   "outputs": [],
   "source": [
    "df_dendro_pca = pca.fit_transform(df_dendro)"
   ]
  },
  {
   "cell_type": "code",
   "execution_count": 321,
   "id": "together-senegal",
   "metadata": {},
   "outputs": [],
   "source": [
    "df_dendro = pd.DataFrame(df_dendro_pca, columns=['pca_1', 'pca_2'], index = df_dendro.index)"
   ]
  },
  {
   "cell_type": "code",
   "execution_count": null,
   "id": "armed-parameter",
   "metadata": {},
   "outputs": [],
   "source": [
    "df_dendro"
   ]
  },
  {
   "cell_type": "code",
   "execution_count": 323,
   "id": "extended-knowing",
   "metadata": {},
   "outputs": [
    {
     "data": {
      "text/html": [
       "<div>\n",
       "<style scoped>\n",
       "    .dataframe tbody tr th:only-of-type {\n",
       "        vertical-align: middle;\n",
       "    }\n",
       "\n",
       "    .dataframe tbody tr th {\n",
       "        vertical-align: top;\n",
       "    }\n",
       "\n",
       "    .dataframe thead th {\n",
       "        text-align: right;\n",
       "    }\n",
       "</style>\n",
       "<table border=\"1\" class=\"dataframe\">\n",
       "  <thead>\n",
       "    <tr style=\"text-align: right;\">\n",
       "      <th></th>\n",
       "      <th>pca_1</th>\n",
       "      <th>pca_2</th>\n",
       "    </tr>\n",
       "  </thead>\n",
       "  <tbody>\n",
       "    <tr>\n",
       "      <th>count</th>\n",
       "      <td>42370.00000</td>\n",
       "      <td>42370.00000</td>\n",
       "    </tr>\n",
       "    <tr>\n",
       "      <th>mean</th>\n",
       "      <td>-0.00000</td>\n",
       "      <td>0.00000</td>\n",
       "    </tr>\n",
       "    <tr>\n",
       "      <th>std</th>\n",
       "      <td>3313.31679</td>\n",
       "      <td>35.98078</td>\n",
       "    </tr>\n",
       "    <tr>\n",
       "      <th>min</th>\n",
       "      <td>-2953.10469</td>\n",
       "      <td>-106.32316</td>\n",
       "    </tr>\n",
       "    <tr>\n",
       "      <th>25%</th>\n",
       "      <td>-2082.19300</td>\n",
       "      <td>-29.14069</td>\n",
       "    </tr>\n",
       "    <tr>\n",
       "      <th>50%</th>\n",
       "      <td>-1210.68031</td>\n",
       "      <td>-4.37866</td>\n",
       "    </tr>\n",
       "    <tr>\n",
       "      <th>75%</th>\n",
       "      <td>785.81840</td>\n",
       "      <td>24.73795</td>\n",
       "    </tr>\n",
       "    <tr>\n",
       "      <th>max</th>\n",
       "      <td>22286.44274</td>\n",
       "      <td>116.32074</td>\n",
       "    </tr>\n",
       "  </tbody>\n",
       "</table>\n",
       "</div>"
      ],
      "text/plain": [
       "             pca_1        pca_2\n",
       "count  42370.00000  42370.00000\n",
       "mean      -0.00000      0.00000\n",
       "std     3313.31679     35.98078\n",
       "min    -2953.10469   -106.32316\n",
       "25%    -2082.19300    -29.14069\n",
       "50%    -1210.68031     -4.37866\n",
       "75%      785.81840     24.73795\n",
       "max    22286.44274    116.32074"
      ]
     },
     "execution_count": 323,
     "metadata": {},
     "output_type": "execute_result"
    }
   ],
   "source": [
    "df_dendro.describe().round(5)"
   ]
  },
  {
   "cell_type": "markdown",
   "id": "completed-event",
   "metadata": {
    "tags": []
   },
   "source": [
    "<b><font color = 'yellow'>Komentarz:</font></b>\n",
    "<br> rozłozyło się dookoła 0, duża (?) rozpiętość pca_1, znowu prawoskośne (?)"
   ]
  },
  {
   "cell_type": "code",
   "execution_count": 324,
   "id": "formal-likelihood",
   "metadata": {},
   "outputs": [
    {
     "data": {
      "image/png": "[encoded data removed]",
      "text/plain": [
       "<Figure size 360x360 with 1 Axes>"
      ]
     },
     "metadata": {
      "needs_background": "light"
     },
     "output_type": "display_data"
    },
    {
     "data": {
      "image/png": "[encoded data removed]",
      "text/plain": [
       "<Figure size 360x360 with 1 Axes>"
      ]
     },
     "metadata": {
      "needs_background": "light"
     },
     "output_type": "display_data"
    }
   ],
   "source": [
    "sns.displot(df_dendro['pca_1'], kind = 'kde').set(title = 'Gęstość - pca_1')\n",
    "plt.show()\n",
    "sns.displot(df_dendro['pca_2'], kind = 'kde').set(title = 'Gęstość - pca_2')\n",
    "plt.show()"
   ]
  },
  {
   "cell_type": "code",
   "execution_count": 327,
   "id": "impressed-refrigerator",
   "metadata": {},
   "outputs": [
    {
     "data": {
      "text/html": [
       "<div>\n",
       "<style scoped>\n",
       "    .dataframe tbody tr th:only-of-type {\n",
       "        vertical-align: middle;\n",
       "    }\n",
       "\n",
       "    .dataframe tbody tr th {\n",
       "        vertical-align: top;\n",
       "    }\n",
       "\n",
       "    .dataframe thead th {\n",
       "        text-align: right;\n",
       "    }\n",
       "</style>\n",
       "<table border=\"1\" class=\"dataframe\">\n",
       "  <thead>\n",
       "    <tr style=\"text-align: right;\">\n",
       "      <th></th>\n",
       "      <th>pca_1</th>\n",
       "      <th>pca_2</th>\n",
       "    </tr>\n",
       "  </thead>\n",
       "  <tbody>\n",
       "    <tr>\n",
       "      <th>count</th>\n",
       "      <td>42370.000000</td>\n",
       "      <td>42370.000000</td>\n",
       "    </tr>\n",
       "    <tr>\n",
       "      <th>mean</th>\n",
       "      <td>2954.104687</td>\n",
       "      <td>107.323160</td>\n",
       "    </tr>\n",
       "    <tr>\n",
       "      <th>std</th>\n",
       "      <td>3313.316791</td>\n",
       "      <td>35.980776</td>\n",
       "    </tr>\n",
       "    <tr>\n",
       "      <th>min</th>\n",
       "      <td>1.000000</td>\n",
       "      <td>1.000000</td>\n",
       "    </tr>\n",
       "    <tr>\n",
       "      <th>25%</th>\n",
       "      <td>871.911689</td>\n",
       "      <td>78.182474</td>\n",
       "    </tr>\n",
       "    <tr>\n",
       "      <th>50%</th>\n",
       "      <td>1743.424373</td>\n",
       "      <td>102.944497</td>\n",
       "    </tr>\n",
       "    <tr>\n",
       "      <th>75%</th>\n",
       "      <td>3739.923086</td>\n",
       "      <td>132.061106</td>\n",
       "    </tr>\n",
       "    <tr>\n",
       "      <th>max</th>\n",
       "      <td>25240.547427</td>\n",
       "      <td>223.643900</td>\n",
       "    </tr>\n",
       "  </tbody>\n",
       "</table>\n",
       "</div>"
      ],
      "text/plain": [
       "              pca_1         pca_2\n",
       "count  42370.000000  42370.000000\n",
       "mean    2954.104687    107.323160\n",
       "std     3313.316791     35.980776\n",
       "min        1.000000      1.000000\n",
       "25%      871.911689     78.182474\n",
       "50%     1743.424373    102.944497\n",
       "75%     3739.923086    132.061106\n",
       "max    25240.547427    223.643900"
      ]
     },
     "execution_count": 327,
     "metadata": {},
     "output_type": "execute_result"
    }
   ],
   "source": [
    "# pozbywam sie ujemnych\n",
    "for col in df_dendro.columns.tolist():\n",
    "    if df_dendro[col].min() <= 0:\n",
    "        df_dendro[col] = df_dendro[col] + np.abs(df_dendro[col].min()) + 1\n",
    "\n",
    "df_dendro.describe()"
   ]
  },
  {
   "cell_type": "code",
   "execution_count": 330,
   "id": "emerging-capital",
   "metadata": {},
   "outputs": [
    {
     "data": {
      "text/html": [
       "<div>\n",
       "<style scoped>\n",
       "    .dataframe tbody tr th:only-of-type {\n",
       "        vertical-align: middle;\n",
       "    }\n",
       "\n",
       "    .dataframe tbody tr th {\n",
       "        vertical-align: top;\n",
       "    }\n",
       "\n",
       "    .dataframe thead th {\n",
       "        text-align: right;\n",
       "    }\n",
       "</style>\n",
       "<table border=\"1\" class=\"dataframe\">\n",
       "  <thead>\n",
       "    <tr style=\"text-align: right;\">\n",
       "      <th></th>\n",
       "      <th>left_border</th>\n",
       "      <th>right_border</th>\n",
       "      <th>outliers_left</th>\n",
       "      <th>outliers_right</th>\n",
       "    </tr>\n",
       "  </thead>\n",
       "  <tbody>\n",
       "    <tr>\n",
       "      <th>pca_1</th>\n",
       "      <td>4.586490</td>\n",
       "      <td>10.411019</td>\n",
       "      <td>233</td>\n",
       "      <td>0</td>\n",
       "    </tr>\n",
       "    <tr>\n",
       "      <th>pca_2</th>\n",
       "      <td>3.572717</td>\n",
       "      <td>5.669594</td>\n",
       "      <td>104</td>\n",
       "      <td>0</td>\n",
       "    </tr>\n",
       "  </tbody>\n",
       "</table>\n",
       "</div>"
      ],
      "text/plain": [
       "       left_border  right_border  outliers_left  outliers_right\n",
       "pca_1     4.586490     10.411019            233               0\n",
       "pca_2     3.572717      5.669594            104               0"
      ]
     },
     "execution_count": 330,
     "metadata": {},
     "output_type": "execute_result"
    }
   ],
   "source": [
    "q1 = df_dendro.quantile(0.25)\n",
    "q3 = df_dendro.quantile(0.75)\n",
    "iqr = q3 - q1\n",
    "\n",
    "left_border = (q1 - 1.5 * iqr)\n",
    "right_border = (q3 + 1.5 * iqr)\n",
    "outliers_left = (df_dendro[iqr.index] < left_border).sum()\n",
    "outliers_right = (df_dendro[iqr.index] > right_border).sum()\n",
    "outliers = pd.DataFrame({'left_border':left_border, 'right_border':right_border,'outliers_left':outliers_left, 'outliers_right':outliers_right})\n",
    "\n",
    "outliers"
   ]
  },
  {
   "cell_type": "code",
   "execution_count": 331,
   "id": "congressional-fleet",
   "metadata": {},
   "outputs": [],
   "source": [
    "# usuwam outliers\n",
    "for row in outliers.iterrows():\n",
    "    df_dendro = df_dendro[(df_dendro[row[0]] >= row[1]['left_border']) & (df_dendro[row[0]] <= row[1]['right_border'])]"
   ]
  },
  {
   "cell_type": "code",
   "execution_count": 332,
   "id": "pointed-dakota",
   "metadata": {},
   "outputs": [
    {
     "data": {
      "image/png": "[encoded data removed]",
      "text/plain": [
       "<Figure size 360x360 with 1 Axes>"
      ]
     },
     "metadata": {
      "needs_background": "light"
     },
     "output_type": "display_data"
    },
    {
     "data": {
      "image/png": "[encoded data removed]",
      "text/plain": [
       "<Figure size 360x360 with 1 Axes>"
      ]
     },
     "metadata": {
      "needs_background": "light"
     },
     "output_type": "display_data"
    }
   ],
   "source": [
    "# sprawdzm jak to wygląda po zmianach\n",
    "\n",
    "sns.displot(df_dendro['pca_1'], kind = 'kde').set(title = 'Gęstość - pca_1')\n",
    "plt.show()\n",
    "sns.displot(df_dendro['pca_2'], kind = 'kde').set(title = 'Gęstość - pca_2')\n",
    "plt.show()"
   ]
  },
  {
   "cell_type": "code",
   "execution_count": 333,
   "id": "corresponding-coffee",
   "metadata": {},
   "outputs": [
    {
     "data": {
      "text/html": [
       "<div>\n",
       "<style scoped>\n",
       "    .dataframe tbody tr th:only-of-type {\n",
       "        vertical-align: middle;\n",
       "    }\n",
       "\n",
       "    .dataframe tbody tr th {\n",
       "        vertical-align: top;\n",
       "    }\n",
       "\n",
       "    .dataframe thead th {\n",
       "        text-align: right;\n",
       "    }\n",
       "</style>\n",
       "<table border=\"1\" class=\"dataframe\">\n",
       "  <thead>\n",
       "    <tr style=\"text-align: right;\">\n",
       "      <th></th>\n",
       "      <th>pca_1</th>\n",
       "      <th>pca_2</th>\n",
       "    </tr>\n",
       "  </thead>\n",
       "  <tbody>\n",
       "    <tr>\n",
       "      <th>count</th>\n",
       "      <td>42034.00000</td>\n",
       "      <td>42034.00000</td>\n",
       "    </tr>\n",
       "    <tr>\n",
       "      <th>mean</th>\n",
       "      <td>7.49271</td>\n",
       "      <td>4.61940</td>\n",
       "    </tr>\n",
       "    <tr>\n",
       "      <th>std</th>\n",
       "      <td>1.02933</td>\n",
       "      <td>0.34212</td>\n",
       "    </tr>\n",
       "    <tr>\n",
       "      <th>min</th>\n",
       "      <td>4.58835</td>\n",
       "      <td>3.57452</td>\n",
       "    </tr>\n",
       "    <tr>\n",
       "      <th>25%</th>\n",
       "      <td>6.78819</td>\n",
       "      <td>4.35998</td>\n",
       "    </tr>\n",
       "    <tr>\n",
       "      <th>50%</th>\n",
       "      <td>7.47440</td>\n",
       "      <td>4.63355</td>\n",
       "    </tr>\n",
       "    <tr>\n",
       "      <th>75%</th>\n",
       "      <td>8.23443</td>\n",
       "      <td>4.88290</td>\n",
       "    </tr>\n",
       "    <tr>\n",
       "      <th>max</th>\n",
       "      <td>10.13621</td>\n",
       "      <td>5.41006</td>\n",
       "    </tr>\n",
       "  </tbody>\n",
       "</table>\n",
       "</div>"
      ],
      "text/plain": [
       "             pca_1        pca_2\n",
       "count  42034.00000  42034.00000\n",
       "mean       7.49271      4.61940\n",
       "std        1.02933      0.34212\n",
       "min        4.58835      3.57452\n",
       "25%        6.78819      4.35998\n",
       "50%        7.47440      4.63355\n",
       "75%        8.23443      4.88290\n",
       "max       10.13621      5.41006"
      ]
     },
     "execution_count": 333,
     "metadata": {},
     "output_type": "execute_result"
    }
   ],
   "source": [
    "df_dendro.describe().round(5)"
   ]
  },
  {
   "cell_type": "code",
   "execution_count": null,
   "id": "wooden-tokyo",
   "metadata": {},
   "outputs": [],
   "source": []
  },
  {
   "cell_type": "code",
   "execution_count": null,
   "id": "fiscal-draft",
   "metadata": {},
   "outputs": [],
   "source": []
  },
  {
   "cell_type": "markdown",
   "id": "painful-drink",
   "metadata": {},
   "source": [
    "### skalowanie"
   ]
  },
  {
   "cell_type": "code",
   "execution_count": 334,
   "id": "vanilla-fancy",
   "metadata": {},
   "outputs": [],
   "source": [
    "# standaryzacja inna metodą\n",
    "from sklearn.preprocessing import StandardScaler\n",
    "\n",
    "scaler = StandardScaler()\n",
    "scaler.fit(df_dendro)\n",
    "df_scaler = scaler.transform(df_dendro)\n",
    "df_dendro = pd.DataFrame(data=df_scaler, index=df_dendro.index, columns=df_dendro.columns)"
   ]
  },
  {
   "cell_type": "code",
   "execution_count": 335,
   "id": "capital-scout",
   "metadata": {},
   "outputs": [
    {
     "data": {
      "text/html": [
       "<div>\n",
       "<style scoped>\n",
       "    .dataframe tbody tr th:only-of-type {\n",
       "        vertical-align: middle;\n",
       "    }\n",
       "\n",
       "    .dataframe tbody tr th {\n",
       "        vertical-align: top;\n",
       "    }\n",
       "\n",
       "    .dataframe thead th {\n",
       "        text-align: right;\n",
       "    }\n",
       "</style>\n",
       "<table border=\"1\" class=\"dataframe\">\n",
       "  <thead>\n",
       "    <tr style=\"text-align: right;\">\n",
       "      <th></th>\n",
       "      <th>pca_1</th>\n",
       "      <th>pca_2</th>\n",
       "    </tr>\n",
       "  </thead>\n",
       "  <tbody>\n",
       "    <tr>\n",
       "      <th>count</th>\n",
       "      <td>42034.00000</td>\n",
       "      <td>42034.00000</td>\n",
       "    </tr>\n",
       "    <tr>\n",
       "      <th>mean</th>\n",
       "      <td>0.00000</td>\n",
       "      <td>0.00000</td>\n",
       "    </tr>\n",
       "    <tr>\n",
       "      <th>std</th>\n",
       "      <td>1.00001</td>\n",
       "      <td>1.00001</td>\n",
       "    </tr>\n",
       "    <tr>\n",
       "      <th>min</th>\n",
       "      <td>-2.82163</td>\n",
       "      <td>-3.05419</td>\n",
       "    </tr>\n",
       "    <tr>\n",
       "      <th>25%</th>\n",
       "      <td>-0.68446</td>\n",
       "      <td>-0.75830</td>\n",
       "    </tr>\n",
       "    <tr>\n",
       "      <th>50%</th>\n",
       "      <td>-0.01779</td>\n",
       "      <td>0.04134</td>\n",
       "    </tr>\n",
       "    <tr>\n",
       "      <th>75%</th>\n",
       "      <td>0.72059</td>\n",
       "      <td>0.77021</td>\n",
       "    </tr>\n",
       "    <tr>\n",
       "      <th>max</th>\n",
       "      <td>2.56819</td>\n",
       "      <td>2.31106</td>\n",
       "    </tr>\n",
       "  </tbody>\n",
       "</table>\n",
       "</div>"
      ],
      "text/plain": [
       "             pca_1        pca_2\n",
       "count  42034.00000  42034.00000\n",
       "mean       0.00000      0.00000\n",
       "std        1.00001      1.00001\n",
       "min       -2.82163     -3.05419\n",
       "25%       -0.68446     -0.75830\n",
       "50%       -0.01779      0.04134\n",
       "75%        0.72059      0.77021\n",
       "max        2.56819      2.31106"
      ]
     },
     "execution_count": 335,
     "metadata": {},
     "output_type": "execute_result"
    }
   ],
   "source": [
    "df_dendro.describe().round(5)"
   ]
  },
  {
   "cell_type": "code",
   "execution_count": 336,
   "id": "metallic-ownership",
   "metadata": {},
   "outputs": [],
   "source": [
    "# ponieważ ilość danych powoduje reset kernela, ograniczam liczbe oberwacji\n",
    "\n",
    "df_dendro = df_dendro.sample(1000, random_state = 666)"
   ]
  },
  {
   "cell_type": "code",
   "execution_count": 337,
   "id": "legendary-healthcare",
   "metadata": {},
   "outputs": [
    {
     "data": {
      "image/png": "[encoded data removed]",
      "text/plain": [
       "<Figure size 360x360 with 1 Axes>"
      ]
     },
     "metadata": {
      "needs_background": "light"
     },
     "output_type": "display_data"
    }
   ],
   "source": [
    "sns.lmplot(x = 'pca_1', y = 'pca_2', data = df_dendro, scatter_kws={\"color\": \"#eb6c6a\"}, fit_reg=False).set(title = 'Wykres punktowy zbioru')\n",
    "plt.show()"
   ]
  }
 ],
 "metadata": {
  "kernelspec": {
   "display_name": "Python 3",
   "language": "python",
   "name": "python3"
  },
  "language_info": {
   "codemirror_mode": {
    "name": "ipython",
    "version": 3
   },
   "file_extension": ".py",
   "mimetype": "text/x-python",
   "name": "python",
   "nbconvert_exporter": "python",
   "pygments_lexer": "ipython3",
   "version": "3.8.5"
  }
 },
 "nbformat": 4,
 "nbformat_minor": 5
}
